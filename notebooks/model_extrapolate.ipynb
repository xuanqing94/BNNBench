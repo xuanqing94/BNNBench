{
 "cells": [
  {
   "cell_type": "code",
   "execution_count": 1,
   "source": [
    "import copy\n",
    "import torch\n",
    "import torch.nn as nn\n",
    "import torchvision\n",
    "import torchvision.transforms as transforms\n",
    "\n",
    "import numpy as np\n",
    "import torch.nn.functional as F\n",
    "from BNNBench.backbones.unet import define_G\n",
    "from BNNBench.backbones.resnet import ResNet101\n",
    "from BNNBench.backbones.vgg import VGG\n",
    "from BNNBench.data.paired_data import get_loader_with_dir"
   ],
   "outputs": [],
   "metadata": {}
  },
  {
   "cell_type": "code",
   "execution_count": 2,
   "source": [
    "def get_model(f):\n",
    "    m = define_G(1, 1, 64, \"unet_256\", norm=\"instance\", use_dropout=False)\n",
    "    m.load_state_dict(torch.load(f))\n",
    "    return m\n",
    "\n",
    "def get_loader():\n",
    "    data_root = \"../datasets/cd105/\"\n",
    "    loader = get_loader_with_dir(data_root + \"A/train/\", data_root + \"B/train/\", 1024, 64, True)\n",
    "    return loader\n",
    "\n",
    "def get_cls_model(f):\n",
    "    model_cls = lambda: VGG(\"VGG16\", 10)\n",
    "    net = model_cls().cuda()\n",
    "    net = torch.nn.DataParallel(net)\n",
    "    checkpoint = torch.load(f)\n",
    "    net.load_state_dict(checkpoint['net'])\n",
    "    return net\n",
    "\n",
    "def get_cls_loader():\n",
    "    transform_train = transforms.Compose([\n",
    "        transforms.RandomCrop(32, padding=4),\n",
    "        transforms.RandomHorizontalFlip(),\n",
    "        transforms.ToTensor(),\n",
    "        transforms.Normalize((0.4914, 0.4822, 0.4465), (0.2023, 0.1994, 0.2010)),\n",
    "    ])\n",
    "    trainset = torchvision.datasets.CIFAR10(\n",
    "        root='../datasets', train=True, download=False, transform=transform_train)\n",
    "    trainloader = torch.utils.data.DataLoader(\n",
    "        trainset, batch_size=256, shuffle=True, num_workers=2,\n",
    "    )\n",
    "    return trainloader\n",
    "\n",
    "def diff_upper_bound(init_model, first_epoch, last_epoch):\n",
    "    L2_init = 0\n",
    "    L2_last = 0\n",
    "    for w_init, w_first, w_last in zip(init_model.parameters(), first_epoch.parameters(), last_epoch.parameters()):\n",
    "        dw1 = w_first - w_init\n",
    "        dw2 = w_last - w_init\n",
    "        L2_init += torch.sum(dw1 * dw1)\n",
    "        L2_last += torch.sum(dw2 * dw2)\n",
    "    print(torch.sqrt(L2_last / L2_init))\n",
    "\n",
    "loader = get_cls_loader()\n",
    "init_model = get_cls_model(\"../checkpoint/vgg16_ln/ckpt_0.pth\")\n",
    "first_epoch = get_cls_model(\"../checkpoint/vgg16/local0_0_1.pth\")\n",
    "last_epoch = get_cls_model(\"../checkpoint/vgg16/local0_0_9.pth\")\n",
    "diff_upper_bound(init_model, first_epoch, last_epoch)"
   ],
   "outputs": [
    {
     "output_type": "stream",
     "name": "stdout",
     "text": [
      "tensor(2.4230, device='cuda:0', grad_fn=<SqrtBackward>)\n"
     ]
    }
   ],
   "metadata": {}
  },
  {
   "cell_type": "code",
   "execution_count": 3,
   "source": [
    "def loss_l1(model):\n",
    "    model.eval()\n",
    "    l = 0.0\n",
    "    for x, y in loader:\n",
    "        x, y = x.cuda(), y.cuda()\n",
    "        with torch.no_grad():\n",
    "            pred = model(x)\n",
    "        l += F.l1_loss(pred, y).item()\n",
    "    print(l / len(loader))\n",
    "\n",
    "def loss_ce(model):\n",
    "    model.eval()\n",
    "    l = 0.0\n",
    "    for x, y in loader:\n",
    "        x, y = x.cuda(), y.cuda()\n",
    "        with torch.no_grad():\n",
    "            pred = model(x)\n",
    "        l += F.cross_entropy(pred, y)\n",
    "    print(l / len(loader))"
   ],
   "outputs": [],
   "metadata": {}
  },
  {
   "cell_type": "code",
   "execution_count": 4,
   "source": [
    "def extrapolate(lam):\n",
    "    model_ext = copy.deepcopy(init_model)\n",
    "    for w_ext, w in zip(model_ext.parameters(), first_epoch.parameters()):\n",
    "        w_ext.data.add_(lam * (w.data - w_ext.data))\n",
    "    for (n, w_ext), (n, w) in zip(model_ext.named_buffers(), first_epoch.named_buffers()):\n",
    "        if n.endswith(\"num_batches_tracked\"):\n",
    "            continue\n",
    "        w_ext.data.add_(lam * (w.data - w_ext.data))\n",
    "    loss_ce(model_ext)\n",
    "    return model_ext\n",
    "\n",
    "for lam in np.arange(0, 5, 1):\n",
    "    print(lam)\n",
    "    model_ext = extrapolate(float(lam))\n",
    "    torch.save(model_ext.state_dict(), f\"../checkpoint/vgg16_ln/extrapolate_local0_0_1_lam{lam}\")\n"
   ],
   "outputs": [
    {
     "output_type": "stream",
     "name": "stdout",
     "text": [
      "0\n"
     ]
    },
    {
     "output_type": "stream",
     "name": "stderr",
     "text": [
      "/home/luinx/miniconda3/envs/bnn/lib/python3.7/site-packages/torch/nn/functional.py:718: UserWarning: Named tensors and all their associated APIs are an experimental feature and subject to change. Please do not use them for anything important until they are released as stable. (Triggered internally at  /pytorch/c10/core/TensorImpl.h:1156.)\n",
      "  return torch.max_pool2d(input, kernel_size, stride, padding, dilation, ceil_mode)\n"
     ]
    },
    {
     "output_type": "stream",
     "name": "stdout",
     "text": [
      "tensor(0.0004, device='cuda:0')\n",
      "1\n",
      "tensor(0.0545, device='cuda:0')\n",
      "2\n",
      "tensor(0.5925, device='cuda:0')\n",
      "3\n",
      "tensor(10.6671, device='cuda:0')\n",
      "4\n",
      "tensor(23.2760, device='cuda:0')\n"
     ]
    }
   ],
   "metadata": {}
  },
  {
   "cell_type": "code",
   "execution_count": 8,
   "source": [
    "[k for k, v in model_ext.named_parameters()]"
   ],
   "outputs": [
    {
     "output_type": "execute_result",
     "data": {
      "text/plain": [
       "['module.features.0.weight',\n",
       " 'module.features.0.bias',\n",
       " 'module.features.1.weight',\n",
       " 'module.features.1.bias',\n",
       " 'module.features.3.weight',\n",
       " 'module.features.3.bias',\n",
       " 'module.features.4.weight',\n",
       " 'module.features.4.bias',\n",
       " 'module.features.7.weight',\n",
       " 'module.features.7.bias',\n",
       " 'module.features.8.weight',\n",
       " 'module.features.8.bias',\n",
       " 'module.features.10.weight',\n",
       " 'module.features.10.bias',\n",
       " 'module.features.11.weight',\n",
       " 'module.features.11.bias',\n",
       " 'module.features.14.weight',\n",
       " 'module.features.14.bias',\n",
       " 'module.features.15.weight',\n",
       " 'module.features.15.bias',\n",
       " 'module.features.17.weight',\n",
       " 'module.features.17.bias',\n",
       " 'module.features.18.weight',\n",
       " 'module.features.18.bias',\n",
       " 'module.features.20.weight',\n",
       " 'module.features.20.bias',\n",
       " 'module.features.21.weight',\n",
       " 'module.features.21.bias',\n",
       " 'module.features.24.weight',\n",
       " 'module.features.24.bias',\n",
       " 'module.features.25.weight',\n",
       " 'module.features.25.bias',\n",
       " 'module.features.27.weight',\n",
       " 'module.features.27.bias',\n",
       " 'module.features.28.weight',\n",
       " 'module.features.28.bias',\n",
       " 'module.features.30.weight',\n",
       " 'module.features.30.bias',\n",
       " 'module.features.31.weight',\n",
       " 'module.features.31.bias',\n",
       " 'module.features.34.weight',\n",
       " 'module.features.34.bias',\n",
       " 'module.features.35.weight',\n",
       " 'module.features.35.bias',\n",
       " 'module.features.37.weight',\n",
       " 'module.features.37.bias',\n",
       " 'module.features.38.weight',\n",
       " 'module.features.38.bias',\n",
       " 'module.features.40.weight',\n",
       " 'module.features.40.bias',\n",
       " 'module.features.41.weight',\n",
       " 'module.features.41.bias',\n",
       " 'module.classifier.weight',\n",
       " 'module.classifier.bias']"
      ]
     },
     "metadata": {},
     "execution_count": 8
    }
   ],
   "metadata": {}
  },
  {
   "cell_type": "code",
   "execution_count": null,
   "source": [],
   "outputs": [],
   "metadata": {}
  }
 ],
 "metadata": {
  "orig_nbformat": 4,
  "language_info": {
   "name": "python",
   "version": "3.7.10",
   "mimetype": "text/x-python",
   "codemirror_mode": {
    "name": "ipython",
    "version": 3
   },
   "pygments_lexer": "ipython3",
   "nbconvert_exporter": "python",
   "file_extension": ".py"
  },
  "kernelspec": {
   "name": "python3",
   "display_name": "Python 3.7.10 64-bit ('bnn': conda)"
  },
  "interpreter": {
   "hash": "53ab3cf51e5cf423bb80b394c9bc97fb211a5f16930554d28666a59f4dccf2a8"
  }
 },
 "nbformat": 4,
 "nbformat_minor": 2
}